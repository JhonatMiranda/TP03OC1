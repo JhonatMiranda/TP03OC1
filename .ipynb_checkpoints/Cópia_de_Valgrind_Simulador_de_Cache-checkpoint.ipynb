{
 "cells": [
  {
   "cell_type": "markdown",
   "metadata": {
    "id": "RAQEhS3SxSRw"
   },
   "source": [
    "# Valgrind e  Simulação de Cache: **Cachegrind**\n"
   ]
  },
  {
   "cell_type": "markdown",
   "metadata": {
    "id": "F6dL1CPWLPp6"
   },
   "source": [
    "\n",
    "\n",
    "Este laboratório apresenta o uso da ferramenta cachegrind do ambiente Valgrind, [para maiores informações consulte aqui](https://valgrind.org/docs/manual/cg-manual.html)\n",
    "\n",
    "**Importante**: \n",
    "* A primeira execução do Cachegrind irá fazer a instalação da ferramenta e pode demorar um pouco mais. \n",
    "* Os laboratorios usam uma multiplicação de matrizes como exemplo. O tamanho da matriz cresce com  $O(N^2)$ e o tempo de execução com $O(N^3)$.\n",
    "* Os exemplos estão em C. Mas o Cachegrind trabalha sobre o executável e pode ser usado em qualquer binário. \n",
    "* Fique a vontade para contribuir.\n"
   ]
  },
  {
   "cell_type": "markdown",
   "metadata": {
    "id": "m6xj7BkeMOzf"
   },
   "source": [
    "## Inicialização\n",
    "\n",
    "Primeiro, configurar o laboratório."
   ]
  },
  {
   "cell_type": "code",
   "execution_count": null,
   "metadata": {
    "colab": {
     "base_uri": "https://localhost:8080/"
    },
    "id": "mibTjp3bOJl_",
    "outputId": "20b511ad-4b61-404a-c3a3-793921d82249"
   },
   "outputs": [
    {
     "name": "stdout",
     "output_type": "stream",
     "text": [
      "Collecting git+git://github.com/canesche/nvcc4jupyter.git\n",
      "  Cloning git://github.com/canesche/nvcc4jupyter.git to /tmp/pip-req-build-1nfgu5me\n",
      "  Running command git clone -q git://github.com/canesche/nvcc4jupyter.git /tmp/pip-req-build-1nfgu5me\n",
      "fatal: destination path 'nvcc4jupyter' already exists and is not an empty directory.\n",
      "The nvcc_plugin extension is already loaded. To reload it, use:\n",
      "  %reload_ext nvcc_plugin\n"
     ]
    }
   ],
   "source": [
    "!pip install git+git://github.com/canesche/nvcc4jupyter.git\n",
    "!git clone https://github.com/canesche/nvcc4jupyter\n",
    "%load_ext nvcc_plugin"
   ]
  },
  {
   "cell_type": "markdown",
   "metadata": {
    "id": "iOJHvvB8QVNi"
   },
   "source": [
    "# Tarefa\n",
    "\n",
    "Variando os valores da cache de dados, ways e a lines (Utilize criatividade para mostrar )"
   ]
  },
  {
   "cell_type": "code",
   "execution_count": null,
   "metadata": {
    "colab": {
     "base_uri": "https://localhost:8080/",
     "height": 329
    },
    "id": "kzoHkecaQVpY",
    "outputId": "6eb2edab-da72-48f5-e5fc-fe9ef1eeb118"
   },
   "outputs": [
    {
     "name": "stdout",
     "output_type": "stream",
     "text": [
      "1 2 3 5 8 13 21 34 55 89 144 233 377 610 987 1597 2584 4181 6765 10946 17711 28657 46368 75025 121393 \n",
      "\n"
     ]
    },
    {
     "data": {
      "image/png": "[encoded data removed]",
      "text/plain": [
       "<Figure size 432x288 with 1 Axes>"
      ]
     },
     "metadata": {
      "needs_background": "light"
     },
     "output_type": "display_data"
    }
   ],
   "source": [
    "%%rangecachegrind datacache=(1,2,4,8,16); ways=2; line=32; bargraph=(misses)\n",
    "#include <stdio.h>\n",
    "#include <stdlib.h>\n",
    "\n",
    "long long int fibOtimizado(long long int contaPassos, long long int ultimo, long long int penultimo)\n",
    "{\n",
    "    long long int nthNum = 0;\n",
    "    if (contaPassos > 0)\n",
    "    {\n",
    "        nthNum = ultimo + penultimo;\n",
    "        penultimo = ultimo;\n",
    "        ultimo = nthNum;\n",
    "        contaPassos--;\n",
    "        return fibOtimizado(contaPassos, ultimo, penultimo);\n",
    "    }\n",
    "    printf(\"%lld \", ultimo);\n",
    "    return ultimo;\n",
    "}\n",
    "\n",
    "int main() {\n",
    "  int tamanho,i;\n",
    "  tamanho=25;\n",
    "  for (i = 1; i <= tamanho; i++)\n",
    "    fibOtimizado(i,1,0);\n",
    "  printf(\"\\n\");\n",
    "  return(0);\n",
    "}"
   ]
  },
  {
   "cell_type": "code",
   "execution_count": null,
   "metadata": {
    "colab": {
     "base_uri": "https://localhost:8080/",
     "height": 329
    },
    "id": "QfuzsCcFr8HW",
    "outputId": "ad73eb4e-68a7-4d47-8db4-30869a7d0b20"
   },
   "outputs": [
    {
     "name": "stdout",
     "output_type": "stream",
     "text": [
      "1 2 3 5 8 13 21 34 55 89 144 233 377 610 987 1597 2584 4181 6765 10946 17711 28657 46368 75025 121393 \n",
      "\n"
     ]
    },
    {
     "data": {
      "image/png": "[encoded data removed]",
      "text/plain": [
       "<Figure size 432x288 with 1 Axes>"
      ]
     },
     "metadata": {
      "needs_background": "light"
     },
     "output_type": "display_data"
    }
   ],
   "source": [
    "%%rangecachegrind datacache=(1,2,4,8,16); ways=4; line=32; bargraph=(misses)\n",
    "#include <stdio.h>\n",
    "#include <stdlib.h>\n",
    "\n",
    "long long int fibOtimizado(long long int contaPassos, long long int ultimo, long long int penultimo)\n",
    "{\n",
    "    long long int nthNum = 0;\n",
    "    if (contaPassos > 0)\n",
    "    {\n",
    "        nthNum = ultimo + penultimo;\n",
    "        penultimo = ultimo;\n",
    "        ultimo = nthNum;\n",
    "        contaPassos--;\n",
    "        return fibOtimizado(contaPassos, ultimo, penultimo);\n",
    "    }\n",
    "    printf(\"%lld \", ultimo);\n",
    "    return ultimo;\n",
    "}\n",
    "\n",
    "int main() {\n",
    "  int tamanho,i;\n",
    "  tamanho=25;\n",
    "  for (i = 1; i <= tamanho; i++)\n",
    "    fibOtimizado(i,1,0);\n",
    "  printf(\"\\n\");\n",
    "  return(0);\n",
    "}"
   ]
  },
  {
   "cell_type": "code",
   "execution_count": null,
   "metadata": {
    "colab": {
     "base_uri": "https://localhost:8080/",
     "height": 329
    },
    "id": "CnhvyT5csDCM",
    "outputId": "e38c23e6-9f66-4797-8c1a-744f68552aa3"
   },
   "outputs": [
    {
     "name": "stdout",
     "output_type": "stream",
     "text": [
      "1 2 3 5 8 13 21 34 55 89 144 233 377 610 987 1597 2584 4181 6765 10946 17711 28657 46368 75025 121393 \n",
      "\n"
     ]
    },
    {
     "data": {
      "image/png": "[encoded data removed]",
      "text/plain": [
       "<Figure size 432x288 with 1 Axes>"
      ]
     },
     "metadata": {
      "needs_background": "light"
     },
     "output_type": "display_data"
    }
   ],
   "source": [
    "%%rangecachegrind datacache=(1,2,4,8,16); ways=8; line=32; bargraph=(misses)\n",
    "#include <stdio.h>\n",
    "#include <stdlib.h>\n",
    "\n",
    "long long int fibOtimizado(long long int contaPassos, long long int ultimo, long long int penultimo)\n",
    "{\n",
    "    long long int nthNum = 0;\n",
    "    if (contaPassos > 0)\n",
    "    {\n",
    "        nthNum = ultimo + penultimo;\n",
    "        penultimo = ultimo;\n",
    "        ultimo = nthNum;\n",
    "        contaPassos--;\n",
    "        return fibOtimizado(contaPassos, ultimo, penultimo);\n",
    "    }\n",
    "    printf(\"%lld \", ultimo);\n",
    "    return ultimo;\n",
    "}\n",
    "\n",
    "int main() {\n",
    "  int tamanho,i;\n",
    "  tamanho=25;\n",
    "  for (i = 1; i <= tamanho; i++)\n",
    "    fibOtimizado(i,1,0);\n",
    "  printf(\"\\n\");\n",
    "  return(0);\n",
    "}"
   ]
  },
  {
   "cell_type": "code",
   "execution_count": null,
   "metadata": {
    "colab": {
     "base_uri": "https://localhost:8080/",
     "height": 329
    },
    "id": "VzK-Qnp3sH0d",
    "outputId": "3cd27917-6651-483f-8cb4-8c588069e7f1"
   },
   "outputs": [
    {
     "name": "stdout",
     "output_type": "stream",
     "text": [
      "1 2 3 5 8 13 21 34 55 89 144 233 377 610 987 1597 2584 4181 6765 10946 17711 28657 46368 75025 121393 \n",
      "\n"
     ]
    },
    {
     "data": {
      "image/png": "[encoded data removed]",
      "text/plain": [
       "<Figure size 432x288 with 1 Axes>"
      ]
     },
     "metadata": {
      "needs_background": "light"
     },
     "output_type": "display_data"
    }
   ],
   "source": [
    "%%rangecachegrind datacache=(1,2,4,8,16); ways=2; line=64; bargraph=(misses)\n",
    "#include <stdio.h>\n",
    "#include <stdlib.h>\n",
    "\n",
    "long long int fibOtimizado(long long int contaPassos, long long int ultimo, long long int penultimo)\n",
    "{\n",
    "    long long int nthNum = 0;\n",
    "    if (contaPassos > 0)\n",
    "    {\n",
    "        nthNum = ultimo + penultimo;\n",
    "        penultimo = ultimo;\n",
    "        ultimo = nthNum;\n",
    "        contaPassos--;\n",
    "        return fibOtimizado(contaPassos, ultimo, penultimo);\n",
    "    }\n",
    "    printf(\"%lld \", ultimo);\n",
    "    return ultimo;\n",
    "}\n",
    "\n",
    "int main() {\n",
    "  int tamanho,i;\n",
    "  tamanho=25;\n",
    "  for (i = 1; i <= tamanho; i++)\n",
    "    fibOtimizado(i,1,0);\n",
    "  printf(\"\\n\");\n",
    "  return(0);\n",
    "}"
   ]
  },
  {
   "cell_type": "code",
   "execution_count": null,
   "metadata": {
    "colab": {
     "base_uri": "https://localhost:8080/",
     "height": 329
    },
    "id": "wMUsYbfvsL36",
    "outputId": "562bd5b6-d2f1-4c61-ed5a-9f596d3433e2"
   },
   "outputs": [
    {
     "name": "stdout",
     "output_type": "stream",
     "text": [
      "1 2 3 5 8 13 21 34 55 89 144 233 377 610 987 1597 2584 4181 6765 10946 17711 28657 46368 75025 121393 \n",
      "\n"
     ]
    },
    {
     "data": {
      "image/png": "[encoded data removed]",
      "text/plain": [
       "<Figure size 432x288 with 1 Axes>"
      ]
     },
     "metadata": {
      "needs_background": "light"
     },
     "output_type": "display_data"
    }
   ],
   "source": [
    "%%rangecachegrind datacache=(1,2,4,8,16); ways=4; line=64; bargraph=(misses)\n",
    "#include <stdio.h>\n",
    "#include <stdlib.h>\n",
    "\n",
    "long long int fibOtimizado(long long int contaPassos, long long int ultimo, long long int penultimo)\n",
    "{\n",
    "    long long int nthNum = 0;\n",
    "    if (contaPassos > 0)\n",
    "    {\n",
    "        nthNum = ultimo + penultimo;\n",
    "        penultimo = ultimo;\n",
    "        ultimo = nthNum;\n",
    "        contaPassos--;\n",
    "        return fibOtimizado(contaPassos, ultimo, penultimo);\n",
    "    }\n",
    "    printf(\"%lld \", ultimo);\n",
    "    return ultimo;\n",
    "}\n",
    "\n",
    "int main() {\n",
    "  int tamanho,i;\n",
    "  tamanho=25;\n",
    "  for (i = 1; i <= tamanho; i++)\n",
    "    fibOtimizado(i,1,0);\n",
    "  printf(\"\\n\");\n",
    "  return(0);\n",
    "}"
   ]
  },
  {
   "cell_type": "code",
   "execution_count": null,
   "metadata": {
    "colab": {
     "base_uri": "https://localhost:8080/",
     "height": 329
    },
    "id": "JAODwbV-sUQ3",
    "outputId": "f17f2203-fe8b-4077-8189-f6c47d5801c5"
   },
   "outputs": [
    {
     "name": "stdout",
     "output_type": "stream",
     "text": [
      "1 2 3 5 8 13 21 34 55 89 144 233 377 610 987 1597 2584 4181 6765 10946 17711 28657 46368 75025 121393 \n",
      "\n"
     ]
    },
    {
     "data": {
      "image/png": "[encoded data removed]",
      "text/plain": [
       "<Figure size 432x288 with 1 Axes>"
      ]
     },
     "metadata": {
      "needs_background": "light"
     },
     "output_type": "display_data"
    }
   ],
   "source": [
    "%%rangecachegrind datacache=(1,2,4,8,16); ways=8; line=64; bargraph=(misses)\n",
    "#include <stdio.h>\n",
    "#include <stdlib.h>\n",
    "\n",
    "long long int fibOtimizado(long long int contaPassos, long long int ultimo, long long int penultimo)\n",
    "{\n",
    "    long long int nthNum = 0;\n",
    "    if (contaPassos > 0)\n",
    "    {\n",
    "        nthNum = ultimo + penultimo;\n",
    "        penultimo = ultimo;\n",
    "        ultimo = nthNum;\n",
    "        contaPassos--;\n",
    "        return fibOtimizado(contaPassos, ultimo, penultimo);\n",
    "    }\n",
    "    printf(\"%lld \", ultimo);\n",
    "    return ultimo;\n",
    "}\n",
    "\n",
    "int main() {\n",
    "  int tamanho,i;\n",
    "  tamanho=25;\n",
    "  for (i = 1; i <= tamanho; i++)\n",
    "    fibOtimizado(i,1,0);\n",
    "  printf(\"\\n\");\n",
    "  return(0);\n",
    "}"
   ]
  },
  {
   "cell_type": "code",
   "execution_count": null,
   "metadata": {
    "id": "8GyNugy8uFZ0"
   },
   "outputs": [],
   "source": []
  },
  {
   "cell_type": "code",
   "execution_count": null,
   "metadata": {
    "colab": {
     "base_uri": "https://localhost:8080/",
     "height": 349
    },
    "id": "TVH6Z9tPuNPM",
    "outputId": "2ab8f5c0-9fbe-4e73-c5f4-3087d48ea795"
   },
   "outputs": [
    {
     "name": "stdout",
     "output_type": "stream",
     "text": [
      "1 2 3 5 8 13 21 34 55 89 144 233 377 610 987 1597 2584 4181 6765 10946 17711 28657 46368 75025 121393 196418 317811 514229 832040 1346269 2178309 3524578 5702887 9227465 14930352 24157817 39088169 63245986 102334155 165580141 267914296 433494437 701408733 1134903170 1836311903 2971215073 4807526976 7778742049 12586269025 20365011074 \n",
      "\n"
     ]
    },
    {
     "data": {
      "image/png": "[encoded data removed]",
      "text/plain": [
       "<Figure size 432x288 with 1 Axes>"
      ]
     },
     "metadata": {
      "needs_background": "light"
     },
     "output_type": "display_data"
    }
   ],
   "source": [
    "%%rangecachegrind datacache=(1,2,4,8,16); ways=2; line=32; bargraph=(misses)\n",
    "#include <stdio.h>\n",
    "#include <stdlib.h>\n",
    "\n",
    "long long int fibOtimizado(long long int contaPassos, long long int ultimo, long long int penultimo)\n",
    "{\n",
    "    long long int nthNum = 0;\n",
    "    if (contaPassos > 0)\n",
    "    {\n",
    "        nthNum = ultimo + penultimo;\n",
    "        penultimo = ultimo;\n",
    "        ultimo = nthNum;\n",
    "        contaPassos--;\n",
    "        return fibOtimizado(contaPassos, ultimo, penultimo);\n",
    "    }\n",
    "    printf(\"%lld \", ultimo);\n",
    "    return ultimo;\n",
    "}\n",
    "\n",
    "int main() {\n",
    "  int tamanho,i;\n",
    "  tamanho=50;\n",
    "  for (i = 1; i <= tamanho; i++)\n",
    "    fibOtimizado(i,1,0);\n",
    "  printf(\"\\n\");\n",
    "  return(0);\n",
    "}"
   ]
  },
  {
   "cell_type": "code",
   "execution_count": null,
   "metadata": {
    "id": "MD2ZB0zruSx2"
   },
   "outputs": [],
   "source": []
  },
  {
   "cell_type": "code",
   "execution_count": null,
   "metadata": {
    "colab": {
     "base_uri": "https://localhost:8080/",
     "height": 349
    },
    "id": "VS2WPJOuuTkM",
    "outputId": "357d013a-4838-451a-b78c-933cc9d9501c"
   },
   "outputs": [
    {
     "name": "stdout",
     "output_type": "stream",
     "text": [
      "1 2 3 5 8 13 21 34 55 89 144 233 377 610 987 1597 2584 4181 6765 10946 17711 28657 46368 75025 121393 196418 317811 514229 832040 1346269 2178309 3524578 5702887 9227465 14930352 24157817 39088169 63245986 102334155 165580141 267914296 433494437 701408733 1134903170 1836311903 2971215073 4807526976 7778742049 12586269025 20365011074 \n",
      "\n"
     ]
    },
    {
     "data": {
      "image/png": "[encoded data removed]",
      "text/plain": [
       "<Figure size 432x288 with 1 Axes>"
      ]
     },
     "metadata": {
      "needs_background": "light"
     },
     "output_type": "display_data"
    }
   ],
   "source": [
    "%%rangecachegrind datacache=(1,2,4,8,16); ways=4; line=32; bargraph=(misses)\n",
    "#include <stdio.h>\n",
    "#include <stdlib.h>\n",
    "\n",
    "long long int fibOtimizado(long long int contaPassos, long long int ultimo, long long int penultimo)\n",
    "{\n",
    "    long long int nthNum = 0;\n",
    "    if (contaPassos > 0)\n",
    "    {\n",
    "        nthNum = ultimo + penultimo;\n",
    "        penultimo = ultimo;\n",
    "        ultimo = nthNum;\n",
    "        contaPassos--;\n",
    "        return fibOtimizado(contaPassos, ultimo, penultimo);\n",
    "    }\n",
    "    printf(\"%lld \", ultimo);\n",
    "    return ultimo;\n",
    "}\n",
    "\n",
    "int main() {\n",
    "  int tamanho,i;\n",
    "  tamanho=50;\n",
    "  for (i = 1; i <= tamanho; i++)\n",
    "    fibOtimizado(i,1,0);\n",
    "  printf(\"\\n\");\n",
    "  return(0);\n",
    "}"
   ]
  },
  {
   "cell_type": "code",
   "execution_count": null,
   "metadata": {
    "id": "fUQMXCiTuYiB"
   },
   "outputs": [],
   "source": []
  },
  {
   "cell_type": "code",
   "execution_count": null,
   "metadata": {
    "colab": {
     "base_uri": "https://localhost:8080/",
     "height": 349
    },
    "id": "8ZqiEXPtuY1b",
    "outputId": "30cd77a8-fd8f-46b7-c0d1-7614ff49bb20"
   },
   "outputs": [
    {
     "name": "stdout",
     "output_type": "stream",
     "text": [
      "1 2 3 5 8 13 21 34 55 89 144 233 377 610 987 1597 2584 4181 6765 10946 17711 28657 46368 75025 121393 196418 317811 514229 832040 1346269 2178309 3524578 5702887 9227465 14930352 24157817 39088169 63245986 102334155 165580141 267914296 433494437 701408733 1134903170 1836311903 2971215073 4807526976 7778742049 12586269025 20365011074 \n",
      "\n"
     ]
    },
    {
     "data": {
      "image/png": "[encoded data removed]",
      "text/plain": [
       "<Figure size 432x288 with 1 Axes>"
      ]
     },
     "metadata": {
      "needs_background": "light"
     },
     "output_type": "display_data"
    }
   ],
   "source": [
    "%%rangecachegrind datacache=(1,2,4,8,16); ways=8; line=32; bargraph=(misses)\n",
    "#include <stdio.h>\n",
    "#include <stdlib.h>\n",
    "\n",
    "long long int fibOtimizado(long long int contaPassos, long long int ultimo, long long int penultimo)\n",
    "{\n",
    "    long long int nthNum = 0;\n",
    "    if (contaPassos > 0)\n",
    "    {\n",
    "        nthNum = ultimo + penultimo;\n",
    "        penultimo = ultimo;\n",
    "        ultimo = nthNum;\n",
    "        contaPassos--;\n",
    "        return fibOtimizado(contaPassos, ultimo, penultimo);\n",
    "    }\n",
    "    printf(\"%lld \", ultimo);\n",
    "    return ultimo;\n",
    "}\n",
    "\n",
    "int main() {\n",
    "  int tamanho,i;\n",
    "  tamanho=50;\n",
    "  for (i = 1; i <= tamanho; i++)\n",
    "    fibOtimizado(i,1,0);\n",
    "  printf(\"\\n\");\n",
    "  return(0);\n",
    "}"
   ]
  },
  {
   "cell_type": "code",
   "execution_count": null,
   "metadata": {
    "id": "KeXpOVIRucb6"
   },
   "outputs": [],
   "source": []
  },
  {
   "cell_type": "code",
   "execution_count": null,
   "metadata": {
    "colab": {
     "base_uri": "https://localhost:8080/",
     "height": 349
    },
    "id": "cAcZbhOlucy7",
    "outputId": "41ebc614-fa4d-4985-ccc2-d6750cbf55d9"
   },
   "outputs": [
    {
     "name": "stdout",
     "output_type": "stream",
     "text": [
      "1 2 3 5 8 13 21 34 55 89 144 233 377 610 987 1597 2584 4181 6765 10946 17711 28657 46368 75025 121393 196418 317811 514229 832040 1346269 2178309 3524578 5702887 9227465 14930352 24157817 39088169 63245986 102334155 165580141 267914296 433494437 701408733 1134903170 1836311903 2971215073 4807526976 7778742049 12586269025 20365011074 \n",
      "\n"
     ]
    },
    {
     "data": {
      "image/png": "[encoded data removed]",
      "text/plain": [
       "<Figure size 432x288 with 1 Axes>"
      ]
     },
     "metadata": {
      "needs_background": "light"
     },
     "output_type": "display_data"
    }
   ],
   "source": [
    "%%rangecachegrind datacache=(1,2,4,8,16); ways=2; line=64; bargraph=(misses)\n",
    "#include <stdio.h>\n",
    "#include <stdlib.h>\n",
    "\n",
    "long long int fibOtimizado(long long int contaPassos, long long int ultimo, long long int penultimo)\n",
    "{\n",
    "    long long int nthNum = 0;\n",
    "    if (contaPassos > 0)\n",
    "    {\n",
    "        nthNum = ultimo + penultimo;\n",
    "        penultimo = ultimo;\n",
    "        ultimo = nthNum;\n",
    "        contaPassos--;\n",
    "        return fibOtimizado(contaPassos, ultimo, penultimo);\n",
    "    }\n",
    "    printf(\"%lld \", ultimo);\n",
    "    return ultimo;\n",
    "}\n",
    "\n",
    "int main() {\n",
    "  int tamanho,i;\n",
    "  tamanho=50;\n",
    "  for (i = 1; i <= tamanho; i++)\n",
    "    fibOtimizado(i,1,0);\n",
    "  printf(\"\\n\");\n",
    "  return(0);\n",
    "}"
   ]
  },
  {
   "cell_type": "code",
   "execution_count": null,
   "metadata": {
    "id": "59TUV0J8ugPH"
   },
   "outputs": [],
   "source": []
  },
  {
   "cell_type": "code",
   "execution_count": null,
   "metadata": {
    "colab": {
     "base_uri": "https://localhost:8080/",
     "height": 349
    },
    "id": "xOLq1BYpugv_",
    "outputId": "59619c21-5cca-4bc0-cef0-6c9a4627d1ad"
   },
   "outputs": [
    {
     "name": "stdout",
     "output_type": "stream",
     "text": [
      "1 2 3 5 8 13 21 34 55 89 144 233 377 610 987 1597 2584 4181 6765 10946 17711 28657 46368 75025 121393 196418 317811 514229 832040 1346269 2178309 3524578 5702887 9227465 14930352 24157817 39088169 63245986 102334155 165580141 267914296 433494437 701408733 1134903170 1836311903 2971215073 4807526976 7778742049 12586269025 20365011074 \n",
      "\n"
     ]
    },
    {
     "data": {
      "image/png": "[encoded data removed]",
      "text/plain": [
       "<Figure size 432x288 with 1 Axes>"
      ]
     },
     "metadata": {
      "needs_background": "light"
     },
     "output_type": "display_data"
    }
   ],
   "source": [
    "%%rangecachegrind datacache=(1,2,4,8,16); ways=4; line=64; bargraph=(misses)\n",
    "#include <stdio.h>\n",
    "#include <stdlib.h>\n",
    "\n",
    "long long int fibOtimizado(long long int contaPassos, long long int ultimo, long long int penultimo)\n",
    "{\n",
    "    long long int nthNum = 0;\n",
    "    if (contaPassos > 0)\n",
    "    {\n",
    "        nthNum = ultimo + penultimo;\n",
    "        penultimo = ultimo;\n",
    "        ultimo = nthNum;\n",
    "        contaPassos--;\n",
    "        return fibOtimizado(contaPassos, ultimo, penultimo);\n",
    "    }\n",
    "    printf(\"%lld \", ultimo);\n",
    "    return ultimo;\n",
    "}\n",
    "\n",
    "int main() {\n",
    "  int tamanho,i;\n",
    "  tamanho=50;\n",
    "  for (i = 1; i <= tamanho; i++)\n",
    "    fibOtimizado(i,1,0);\n",
    "  printf(\"\\n\");\n",
    "  return(0);\n",
    "}"
   ]
  },
  {
   "cell_type": "code",
   "execution_count": null,
   "metadata": {
    "id": "pbppvMILukj_"
   },
   "outputs": [],
   "source": []
  },
  {
   "cell_type": "code",
   "execution_count": null,
   "metadata": {
    "colab": {
     "base_uri": "https://localhost:8080/",
     "height": 349
    },
    "id": "RnvrEO5huk2b",
    "outputId": "e3a84f05-1c7f-447a-b768-a1141d32ce2f"
   },
   "outputs": [
    {
     "name": "stdout",
     "output_type": "stream",
     "text": [
      "1 2 3 5 8 13 21 34 55 89 144 233 377 610 987 1597 2584 4181 6765 10946 17711 28657 46368 75025 121393 196418 317811 514229 832040 1346269 2178309 3524578 5702887 9227465 14930352 24157817 39088169 63245986 102334155 165580141 267914296 433494437 701408733 1134903170 1836311903 2971215073 4807526976 7778742049 12586269025 20365011074 \n",
      "\n"
     ]
    },
    {
     "data": {
      "image/png": "[encoded data removed]",
      "text/plain": [
       "<Figure size 432x288 with 1 Axes>"
      ]
     },
     "metadata": {
      "needs_background": "light"
     },
     "output_type": "display_data"
    }
   ],
   "source": [
    "%%rangecachegrind datacache=(1,2,4,8,16); ways=8; line=64; bargraph=(misses)\n",
    "#include <stdio.h>\n",
    "#include <stdlib.h>\n",
    "\n",
    "long long int fibOtimizado(long long int contaPassos, long long int ultimo, long long int penultimo)\n",
    "{\n",
    "    long long int nthNum = 0;\n",
    "    if (contaPassos > 0)\n",
    "    {\n",
    "        nthNum = ultimo + penultimo;\n",
    "        penultimo = ultimo;\n",
    "        ultimo = nthNum;\n",
    "        contaPassos--;\n",
    "        return fibOtimizado(contaPassos, ultimo, penultimo);\n",
    "    }\n",
    "    printf(\"%lld \", ultimo);\n",
    "    return ultimo;\n",
    "}\n",
    "\n",
    "int main() {\n",
    "  int tamanho,i;\n",
    "  tamanho=50;\n",
    "  for (i = 1; i <= tamanho; i++)\n",
    "    fibOtimizado(i,1,0);\n",
    "  printf(\"\\n\");\n",
    "  return(0);\n",
    "}"
   ]
  },
  {
   "cell_type": "code",
   "execution_count": null,
   "metadata": {},
   "outputs": [],
   "source": []
  }
 ],
 "metadata": {
  "colab": {
   "collapsed_sections": [],
   "name": "Cópia de Valgrind Simulador de Cache.ipynb",
   "provenance": []
  },
  "kernelspec": {
   "display_name": "Python 3 (ipykernel)",
   "language": "python",
   "name": "python3"
  },
  "language_info": {
   "codemirror_mode": {
    "name": "ipython",
    "version": 3
   },
   "file_extension": ".py",
   "mimetype": "text/x-python",
   "name": "python",
   "nbconvert_exporter": "python",
   "pygments_lexer": "ipython3",
   "version": "3.8.10"
  }
 },
 "nbformat": 4,
 "nbformat_minor": 4
}
